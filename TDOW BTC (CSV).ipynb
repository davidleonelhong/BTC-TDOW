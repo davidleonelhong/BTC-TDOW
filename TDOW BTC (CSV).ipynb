{
 "cells": [
  {
   "cell_type": "markdown",
   "metadata": {},
   "source": [
    "# Trading Day Of the Week (TDOW)\n",
    "\n",
    "Vamos a analizar cuantitativamente la serie historica de precios de **BTC** (5 años aprox) para observar **la probabilidad de que el cierre diario del activo sea al alza o baja segun el dia de la semana.** Esto nos va a servir como un indicador para tomar en cuenta al momento de operar, y tambien va a servir para explicar que los mercados no se comportan como **random walk** debido a que estan predispuesto a cerrar arriba o abajo segun el tipo del dia. Aparte de calcular la probabilidad, vamos a calcular **el promedio del rendimiento segun cada dia de la semana.** Se tomaron datos de Abril 2013 a Abril 2018."
   ]
  },
  {
   "cell_type": "markdown",
   "metadata": {},
   "source": [
    "### Importamos los paquetes y librerias necesarios para el analisis"
   ]
  },
  {
   "cell_type": "code",
   "execution_count": 1,
   "metadata": {},
   "outputs": [],
   "source": [
    "import pandas as pd\n",
    "import numpy as np"
   ]
  },
  {
   "cell_type": "markdown",
   "metadata": {},
   "source": [
    "### Cambio el directorio a la carpeta \"Datasets\" donde voy a tener el archivo de los datos historicos"
   ]
  },
  {
   "cell_type": "code",
   "execution_count": 2,
   "metadata": {},
   "outputs": [
    {
     "name": "stdout",
     "output_type": "stream",
     "text": [
      "C:\\Users\\david\\Documents\\Datasets\n"
     ]
    }
   ],
   "source": [
    "cd C:\\Users\\david\\Documents\\Datasets"
   ]
  },
  {
   "cell_type": "markdown",
   "metadata": {},
   "source": [
    "### Corroboro que la direccion presente de trabajo sea igual al directorio cambiado, donde estan las series"
   ]
  },
  {
   "cell_type": "code",
   "execution_count": 3,
   "metadata": {},
   "outputs": [
    {
     "data": {
      "text/plain": [
       "'C:\\\\Users\\\\david\\\\Documents\\\\Datasets'"
      ]
     },
     "execution_count": 3,
     "metadata": {},
     "output_type": "execute_result"
    }
   ],
   "source": [
    "pwd"
   ]
  },
  {
   "cell_type": "markdown",
   "metadata": {},
   "source": [
    "### Importo el CSV y lo agrego a un dataframe llamado \"data\""
   ]
  },
  {
   "cell_type": "code",
   "execution_count": 4,
   "metadata": {},
   "outputs": [],
   "source": [
    "data = pd.read_csv('BTC5Y.csv',low_memory=False)"
   ]
  },
  {
   "cell_type": "markdown",
   "metadata": {},
   "source": [
    "### Uso .head() para visualizar las 10 primeras filas del dataframe"
   ]
  },
  {
   "cell_type": "code",
   "execution_count": 5,
   "metadata": {},
   "outputs": [
    {
     "data": {
      "text/html": [
       "<div>\n",
       "<style scoped>\n",
       "    .dataframe tbody tr th:only-of-type {\n",
       "        vertical-align: middle;\n",
       "    }\n",
       "\n",
       "    .dataframe tbody tr th {\n",
       "        vertical-align: top;\n",
       "    }\n",
       "\n",
       "    .dataframe thead th {\n",
       "        text-align: right;\n",
       "    }\n",
       "</style>\n",
       "<table border=\"1\" class=\"dataframe\">\n",
       "  <thead>\n",
       "    <tr style=\"text-align: right;\">\n",
       "      <th></th>\n",
       "      <th>Id</th>\n",
       "      <th>CoinId</th>\n",
       "      <th>Symbol</th>\n",
       "      <th>Date</th>\n",
       "      <th>Open</th>\n",
       "      <th>High</th>\n",
       "      <th>Low</th>\n",
       "      <th>Close</th>\n",
       "      <th>Volume</th>\n",
       "      <th>MarketCap</th>\n",
       "    </tr>\n",
       "  </thead>\n",
       "  <tbody>\n",
       "    <tr>\n",
       "      <th>0</th>\n",
       "      <td>835561</td>\n",
       "      <td>1</td>\n",
       "      <td>BTC</td>\n",
       "      <td>2013-04-28 00:00:00.000</td>\n",
       "      <td>135.300003</td>\n",
       "      <td>135.979996</td>\n",
       "      <td>132.100006</td>\n",
       "      <td>134.210007</td>\n",
       "      <td>0.0</td>\n",
       "      <td>1500519936</td>\n",
       "    </tr>\n",
       "    <tr>\n",
       "      <th>1</th>\n",
       "      <td>835560</td>\n",
       "      <td>1</td>\n",
       "      <td>BTC</td>\n",
       "      <td>2013-04-29 00:00:00.000</td>\n",
       "      <td>134.444000</td>\n",
       "      <td>147.488007</td>\n",
       "      <td>134.000000</td>\n",
       "      <td>144.539993</td>\n",
       "      <td>0.0</td>\n",
       "      <td>1491160064</td>\n",
       "    </tr>\n",
       "    <tr>\n",
       "      <th>2</th>\n",
       "      <td>835559</td>\n",
       "      <td>1</td>\n",
       "      <td>BTC</td>\n",
       "      <td>2013-04-30 00:00:00.000</td>\n",
       "      <td>144.000000</td>\n",
       "      <td>146.929993</td>\n",
       "      <td>134.050003</td>\n",
       "      <td>139.000000</td>\n",
       "      <td>0.0</td>\n",
       "      <td>1597779968</td>\n",
       "    </tr>\n",
       "    <tr>\n",
       "      <th>3</th>\n",
       "      <td>835558</td>\n",
       "      <td>1</td>\n",
       "      <td>BTC</td>\n",
       "      <td>2013-05-01 00:00:00.000</td>\n",
       "      <td>139.000000</td>\n",
       "      <td>139.889999</td>\n",
       "      <td>107.720001</td>\n",
       "      <td>116.989998</td>\n",
       "      <td>0.0</td>\n",
       "      <td>1542819968</td>\n",
       "    </tr>\n",
       "    <tr>\n",
       "      <th>4</th>\n",
       "      <td>835557</td>\n",
       "      <td>1</td>\n",
       "      <td>BTC</td>\n",
       "      <td>2013-05-02 00:00:00.000</td>\n",
       "      <td>116.379997</td>\n",
       "      <td>125.599998</td>\n",
       "      <td>92.281898</td>\n",
       "      <td>105.209999</td>\n",
       "      <td>0.0</td>\n",
       "      <td>1292189952</td>\n",
       "    </tr>\n",
       "  </tbody>\n",
       "</table>\n",
       "</div>"
      ],
      "text/plain": [
       "       Id  CoinId Symbol                     Date        Open        High  \\\n",
       "0  835561       1    BTC  2013-04-28 00:00:00.000  135.300003  135.979996   \n",
       "1  835560       1    BTC  2013-04-29 00:00:00.000  134.444000  147.488007   \n",
       "2  835559       1    BTC  2013-04-30 00:00:00.000  144.000000  146.929993   \n",
       "3  835558       1    BTC  2013-05-01 00:00:00.000  139.000000  139.889999   \n",
       "4  835557       1    BTC  2013-05-02 00:00:00.000  116.379997  125.599998   \n",
       "\n",
       "          Low       Close  Volume   MarketCap  \n",
       "0  132.100006  134.210007     0.0  1500519936  \n",
       "1  134.000000  144.539993     0.0  1491160064  \n",
       "2  134.050003  139.000000     0.0  1597779968  \n",
       "3  107.720001  116.989998     0.0  1542819968  \n",
       "4   92.281898  105.209999     0.0  1292189952  "
      ]
     },
     "execution_count": 5,
     "metadata": {},
     "output_type": "execute_result"
    }
   ],
   "source": [
    "data.head()"
   ]
  },
  {
   "cell_type": "markdown",
   "metadata": {},
   "source": [
    "### Observo la forma de la serie (filas x columnas)"
   ]
  },
  {
   "cell_type": "code",
   "execution_count": 6,
   "metadata": {},
   "outputs": [
    {
     "data": {
      "text/plain": [
       "(1925, 10)"
      ]
     },
     "execution_count": 6,
     "metadata": {},
     "output_type": "execute_result"
    }
   ],
   "source": [
    "data.shape"
   ]
  },
  {
   "cell_type": "markdown",
   "metadata": {},
   "source": [
    "### Mido la cantindad de datos/variables unicas que existen en la columna de \"Symbol\"\n",
    "\n",
    "Deberia ser 1, ya que solo estamos analizando el activo de BTC. Si sale 1, comprobamos que en ese sentido, la serie esta bien."
   ]
  },
  {
   "cell_type": "code",
   "execution_count": 7,
   "metadata": {},
   "outputs": [
    {
     "data": {
      "text/plain": [
       "1"
      ]
     },
     "execution_count": 7,
     "metadata": {},
     "output_type": "execute_result"
    }
   ],
   "source": [
    "len(data['Symbol'].unique())"
   ]
  },
  {
   "cell_type": "markdown",
   "metadata": {},
   "source": [
    "### Busco si faltan valores, True=Si False=No\n",
    "\n",
    "Como aparece todo False (No), comprobamos que en este otro sentido, la serie esta \"limpia\"."
   ]
  },
  {
   "cell_type": "code",
   "execution_count": 8,
   "metadata": {},
   "outputs": [
    {
     "data": {
      "text/plain": [
       "Id           False\n",
       "CoinId       False\n",
       "Symbol       False\n",
       "Date         False\n",
       "Open         False\n",
       "High         False\n",
       "Low          False\n",
       "Close        False\n",
       "Volume       False\n",
       "MarketCap    False\n",
       "dtype: bool"
      ]
     },
     "execution_count": 8,
     "metadata": {},
     "output_type": "execute_result"
    }
   ],
   "source": [
    "data.isnull().any()"
   ]
  },
  {
   "cell_type": "code",
   "execution_count": 9,
   "metadata": {},
   "outputs": [
    {
     "data": {
      "text/html": [
       "<div>\n",
       "<style scoped>\n",
       "    .dataframe tbody tr th:only-of-type {\n",
       "        vertical-align: middle;\n",
       "    }\n",
       "\n",
       "    .dataframe tbody tr th {\n",
       "        vertical-align: top;\n",
       "    }\n",
       "\n",
       "    .dataframe thead th {\n",
       "        text-align: right;\n",
       "    }\n",
       "</style>\n",
       "<table border=\"1\" class=\"dataframe\">\n",
       "  <thead>\n",
       "    <tr style=\"text-align: right;\">\n",
       "      <th></th>\n",
       "      <th>Id</th>\n",
       "      <th>CoinId</th>\n",
       "      <th>Symbol</th>\n",
       "      <th>Date</th>\n",
       "      <th>Open</th>\n",
       "      <th>High</th>\n",
       "      <th>Low</th>\n",
       "      <th>Close</th>\n",
       "      <th>Volume</th>\n",
       "      <th>MarketCap</th>\n",
       "    </tr>\n",
       "  </thead>\n",
       "  <tbody>\n",
       "    <tr>\n",
       "      <th>0</th>\n",
       "      <td>835561</td>\n",
       "      <td>1</td>\n",
       "      <td>BTC</td>\n",
       "      <td>2013-04-28 00:00:00.000</td>\n",
       "      <td>135.300003</td>\n",
       "      <td>135.979996</td>\n",
       "      <td>132.100006</td>\n",
       "      <td>134.210007</td>\n",
       "      <td>0.0</td>\n",
       "      <td>1500519936</td>\n",
       "    </tr>\n",
       "    <tr>\n",
       "      <th>1</th>\n",
       "      <td>835560</td>\n",
       "      <td>1</td>\n",
       "      <td>BTC</td>\n",
       "      <td>2013-04-29 00:00:00.000</td>\n",
       "      <td>134.444000</td>\n",
       "      <td>147.488007</td>\n",
       "      <td>134.000000</td>\n",
       "      <td>144.539993</td>\n",
       "      <td>0.0</td>\n",
       "      <td>1491160064</td>\n",
       "    </tr>\n",
       "    <tr>\n",
       "      <th>2</th>\n",
       "      <td>835559</td>\n",
       "      <td>1</td>\n",
       "      <td>BTC</td>\n",
       "      <td>2013-04-30 00:00:00.000</td>\n",
       "      <td>144.000000</td>\n",
       "      <td>146.929993</td>\n",
       "      <td>134.050003</td>\n",
       "      <td>139.000000</td>\n",
       "      <td>0.0</td>\n",
       "      <td>1597779968</td>\n",
       "    </tr>\n",
       "    <tr>\n",
       "      <th>3</th>\n",
       "      <td>835558</td>\n",
       "      <td>1</td>\n",
       "      <td>BTC</td>\n",
       "      <td>2013-05-01 00:00:00.000</td>\n",
       "      <td>139.000000</td>\n",
       "      <td>139.889999</td>\n",
       "      <td>107.720001</td>\n",
       "      <td>116.989998</td>\n",
       "      <td>0.0</td>\n",
       "      <td>1542819968</td>\n",
       "    </tr>\n",
       "    <tr>\n",
       "      <th>4</th>\n",
       "      <td>835557</td>\n",
       "      <td>1</td>\n",
       "      <td>BTC</td>\n",
       "      <td>2013-05-02 00:00:00.000</td>\n",
       "      <td>116.379997</td>\n",
       "      <td>125.599998</td>\n",
       "      <td>92.281898</td>\n",
       "      <td>105.209999</td>\n",
       "      <td>0.0</td>\n",
       "      <td>1292189952</td>\n",
       "    </tr>\n",
       "  </tbody>\n",
       "</table>\n",
       "</div>"
      ],
      "text/plain": [
       "       Id  CoinId Symbol                     Date        Open        High  \\\n",
       "0  835561       1    BTC  2013-04-28 00:00:00.000  135.300003  135.979996   \n",
       "1  835560       1    BTC  2013-04-29 00:00:00.000  134.444000  147.488007   \n",
       "2  835559       1    BTC  2013-04-30 00:00:00.000  144.000000  146.929993   \n",
       "3  835558       1    BTC  2013-05-01 00:00:00.000  139.000000  139.889999   \n",
       "4  835557       1    BTC  2013-05-02 00:00:00.000  116.379997  125.599998   \n",
       "\n",
       "          Low       Close  Volume   MarketCap  \n",
       "0  132.100006  134.210007     0.0  1500519936  \n",
       "1  134.000000  144.539993     0.0  1491160064  \n",
       "2  134.050003  139.000000     0.0  1597779968  \n",
       "3  107.720001  116.989998     0.0  1542819968  \n",
       "4   92.281898  105.209999     0.0  1292189952  "
      ]
     },
     "execution_count": 9,
     "metadata": {},
     "output_type": "execute_result"
    }
   ],
   "source": [
    "data.head()"
   ]
  },
  {
   "cell_type": "markdown",
   "metadata": {},
   "source": [
    "### Cambio el formato de los datos de la columna \"Date\" al de fecha mediante pd.to_datetime"
   ]
  },
  {
   "cell_type": "code",
   "execution_count": 10,
   "metadata": {},
   "outputs": [],
   "source": [
    "data['Date'] = pd.to_datetime(data['Date'])"
   ]
  },
  {
   "cell_type": "markdown",
   "metadata": {},
   "source": [
    "### Una vez que esta en formato datetime, puedo cambiar las fechas segun dia de semana\n",
    "\n",
    "Utilizo .head() para ver las primeras 5 filas segun el formato del dia de semana"
   ]
  },
  {
   "cell_type": "code",
   "execution_count": 11,
   "metadata": {
    "scrolled": false
   },
   "outputs": [
    {
     "data": {
      "text/plain": [
       "0    6\n",
       "1    0\n",
       "2    1\n",
       "3    2\n",
       "4    3\n",
       "Name: Date, dtype: int64"
      ]
     },
     "execution_count": 11,
     "metadata": {},
     "output_type": "execute_result"
    }
   ],
   "source": [
    "data['Date'].dt.weekday.head()"
   ]
  },
  {
   "cell_type": "markdown",
   "metadata": {},
   "source": [
    "### Creo un diccionario para asignarle un string value al formato numerico del dia de semana"
   ]
  },
  {
   "cell_type": "code",
   "execution_count": 12,
   "metadata": {},
   "outputs": [],
   "source": [
    "day_dict = {\n",
    "    0:'Lunes',\n",
    "    1:'Martes',\n",
    "    2:'Miercoles',\n",
    "    3:'Jueves',\n",
    "    4:'Viernes',\n",
    "    5:'Sabado',\n",
    "    6:'Domingo'\n",
    "           }"
   ]
  },
  {
   "cell_type": "markdown",
   "metadata": {},
   "source": [
    "### Agrego una columna para asignarle el dia de semana a cada fecha, utilizando el diccionario que creamos antes"
   ]
  },
  {
   "cell_type": "code",
   "execution_count": 13,
   "metadata": {},
   "outputs": [],
   "source": [
    "data['Day_of_week']=data['Date'].dt.weekday.map(day_dict)"
   ]
  },
  {
   "cell_type": "code",
   "execution_count": 14,
   "metadata": {},
   "outputs": [
    {
     "data": {
      "text/html": [
       "<div>\n",
       "<style scoped>\n",
       "    .dataframe tbody tr th:only-of-type {\n",
       "        vertical-align: middle;\n",
       "    }\n",
       "\n",
       "    .dataframe tbody tr th {\n",
       "        vertical-align: top;\n",
       "    }\n",
       "\n",
       "    .dataframe thead th {\n",
       "        text-align: right;\n",
       "    }\n",
       "</style>\n",
       "<table border=\"1\" class=\"dataframe\">\n",
       "  <thead>\n",
       "    <tr style=\"text-align: right;\">\n",
       "      <th></th>\n",
       "      <th>Id</th>\n",
       "      <th>CoinId</th>\n",
       "      <th>Symbol</th>\n",
       "      <th>Date</th>\n",
       "      <th>Open</th>\n",
       "      <th>High</th>\n",
       "      <th>Low</th>\n",
       "      <th>Close</th>\n",
       "      <th>Volume</th>\n",
       "      <th>MarketCap</th>\n",
       "      <th>Day_of_week</th>\n",
       "    </tr>\n",
       "  </thead>\n",
       "  <tbody>\n",
       "    <tr>\n",
       "      <th>0</th>\n",
       "      <td>835561</td>\n",
       "      <td>1</td>\n",
       "      <td>BTC</td>\n",
       "      <td>2013-04-28</td>\n",
       "      <td>135.300003</td>\n",
       "      <td>135.979996</td>\n",
       "      <td>132.100006</td>\n",
       "      <td>134.210007</td>\n",
       "      <td>0.0</td>\n",
       "      <td>1500519936</td>\n",
       "      <td>Domingo</td>\n",
       "    </tr>\n",
       "    <tr>\n",
       "      <th>1</th>\n",
       "      <td>835560</td>\n",
       "      <td>1</td>\n",
       "      <td>BTC</td>\n",
       "      <td>2013-04-29</td>\n",
       "      <td>134.444000</td>\n",
       "      <td>147.488007</td>\n",
       "      <td>134.000000</td>\n",
       "      <td>144.539993</td>\n",
       "      <td>0.0</td>\n",
       "      <td>1491160064</td>\n",
       "      <td>Lunes</td>\n",
       "    </tr>\n",
       "    <tr>\n",
       "      <th>2</th>\n",
       "      <td>835559</td>\n",
       "      <td>1</td>\n",
       "      <td>BTC</td>\n",
       "      <td>2013-04-30</td>\n",
       "      <td>144.000000</td>\n",
       "      <td>146.929993</td>\n",
       "      <td>134.050003</td>\n",
       "      <td>139.000000</td>\n",
       "      <td>0.0</td>\n",
       "      <td>1597779968</td>\n",
       "      <td>Martes</td>\n",
       "    </tr>\n",
       "    <tr>\n",
       "      <th>3</th>\n",
       "      <td>835558</td>\n",
       "      <td>1</td>\n",
       "      <td>BTC</td>\n",
       "      <td>2013-05-01</td>\n",
       "      <td>139.000000</td>\n",
       "      <td>139.889999</td>\n",
       "      <td>107.720001</td>\n",
       "      <td>116.989998</td>\n",
       "      <td>0.0</td>\n",
       "      <td>1542819968</td>\n",
       "      <td>Miercoles</td>\n",
       "    </tr>\n",
       "    <tr>\n",
       "      <th>4</th>\n",
       "      <td>835557</td>\n",
       "      <td>1</td>\n",
       "      <td>BTC</td>\n",
       "      <td>2013-05-02</td>\n",
       "      <td>116.379997</td>\n",
       "      <td>125.599998</td>\n",
       "      <td>92.281898</td>\n",
       "      <td>105.209999</td>\n",
       "      <td>0.0</td>\n",
       "      <td>1292189952</td>\n",
       "      <td>Jueves</td>\n",
       "    </tr>\n",
       "  </tbody>\n",
       "</table>\n",
       "</div>"
      ],
      "text/plain": [
       "       Id  CoinId Symbol       Date        Open        High         Low  \\\n",
       "0  835561       1    BTC 2013-04-28  135.300003  135.979996  132.100006   \n",
       "1  835560       1    BTC 2013-04-29  134.444000  147.488007  134.000000   \n",
       "2  835559       1    BTC 2013-04-30  144.000000  146.929993  134.050003   \n",
       "3  835558       1    BTC 2013-05-01  139.000000  139.889999  107.720001   \n",
       "4  835557       1    BTC 2013-05-02  116.379997  125.599998   92.281898   \n",
       "\n",
       "        Close  Volume   MarketCap Day_of_week  \n",
       "0  134.210007     0.0  1500519936     Domingo  \n",
       "1  144.539993     0.0  1491160064       Lunes  \n",
       "2  139.000000     0.0  1597779968      Martes  \n",
       "3  116.989998     0.0  1542819968   Miercoles  \n",
       "4  105.209999     0.0  1292189952      Jueves  "
      ]
     },
     "execution_count": 14,
     "metadata": {},
     "output_type": "execute_result"
    }
   ],
   "source": [
    "data.head()"
   ]
  },
  {
   "cell_type": "markdown",
   "metadata": {},
   "source": [
    "### Creo una columna para calcular el PnL diario\n",
    "\n",
    "Calculamos la ganancia que obtendriamos al comprar a la apertura y vender al cierre"
   ]
  },
  {
   "cell_type": "code",
   "execution_count": 15,
   "metadata": {},
   "outputs": [],
   "source": [
    "data['PnL'] = data['Close'] - data['Open']"
   ]
  },
  {
   "cell_type": "markdown",
   "metadata": {},
   "source": [
    "### Creo una columna para referirme si el PnL fue negativo o postivio\n",
    "0 = Negativo\n",
    "1 = Positivo"
   ]
  },
  {
   "cell_type": "code",
   "execution_count": 16,
   "metadata": {},
   "outputs": [],
   "source": [
    "data['Pos_neg'] = data['PnL'].apply(lambda x: int(x >=0))"
   ]
  },
  {
   "cell_type": "code",
   "execution_count": 17,
   "metadata": {},
   "outputs": [
    {
     "data": {
      "text/html": [
       "<div>\n",
       "<style scoped>\n",
       "    .dataframe tbody tr th:only-of-type {\n",
       "        vertical-align: middle;\n",
       "    }\n",
       "\n",
       "    .dataframe tbody tr th {\n",
       "        vertical-align: top;\n",
       "    }\n",
       "\n",
       "    .dataframe thead th {\n",
       "        text-align: right;\n",
       "    }\n",
       "</style>\n",
       "<table border=\"1\" class=\"dataframe\">\n",
       "  <thead>\n",
       "    <tr style=\"text-align: right;\">\n",
       "      <th></th>\n",
       "      <th>Id</th>\n",
       "      <th>CoinId</th>\n",
       "      <th>Symbol</th>\n",
       "      <th>Date</th>\n",
       "      <th>Open</th>\n",
       "      <th>High</th>\n",
       "      <th>Low</th>\n",
       "      <th>Close</th>\n",
       "      <th>Volume</th>\n",
       "      <th>MarketCap</th>\n",
       "      <th>Day_of_week</th>\n",
       "      <th>PnL</th>\n",
       "      <th>Pos_neg</th>\n",
       "    </tr>\n",
       "  </thead>\n",
       "  <tbody>\n",
       "    <tr>\n",
       "      <th>0</th>\n",
       "      <td>835561</td>\n",
       "      <td>1</td>\n",
       "      <td>BTC</td>\n",
       "      <td>2013-04-28</td>\n",
       "      <td>135.300003</td>\n",
       "      <td>135.979996</td>\n",
       "      <td>132.100006</td>\n",
       "      <td>134.210007</td>\n",
       "      <td>0.0</td>\n",
       "      <td>1500519936</td>\n",
       "      <td>Domingo</td>\n",
       "      <td>-1.089996</td>\n",
       "      <td>0</td>\n",
       "    </tr>\n",
       "    <tr>\n",
       "      <th>1</th>\n",
       "      <td>835560</td>\n",
       "      <td>1</td>\n",
       "      <td>BTC</td>\n",
       "      <td>2013-04-29</td>\n",
       "      <td>134.444000</td>\n",
       "      <td>147.488007</td>\n",
       "      <td>134.000000</td>\n",
       "      <td>144.539993</td>\n",
       "      <td>0.0</td>\n",
       "      <td>1491160064</td>\n",
       "      <td>Lunes</td>\n",
       "      <td>10.095993</td>\n",
       "      <td>1</td>\n",
       "    </tr>\n",
       "    <tr>\n",
       "      <th>2</th>\n",
       "      <td>835559</td>\n",
       "      <td>1</td>\n",
       "      <td>BTC</td>\n",
       "      <td>2013-04-30</td>\n",
       "      <td>144.000000</td>\n",
       "      <td>146.929993</td>\n",
       "      <td>134.050003</td>\n",
       "      <td>139.000000</td>\n",
       "      <td>0.0</td>\n",
       "      <td>1597779968</td>\n",
       "      <td>Martes</td>\n",
       "      <td>-5.000000</td>\n",
       "      <td>0</td>\n",
       "    </tr>\n",
       "    <tr>\n",
       "      <th>3</th>\n",
       "      <td>835558</td>\n",
       "      <td>1</td>\n",
       "      <td>BTC</td>\n",
       "      <td>2013-05-01</td>\n",
       "      <td>139.000000</td>\n",
       "      <td>139.889999</td>\n",
       "      <td>107.720001</td>\n",
       "      <td>116.989998</td>\n",
       "      <td>0.0</td>\n",
       "      <td>1542819968</td>\n",
       "      <td>Miercoles</td>\n",
       "      <td>-22.010002</td>\n",
       "      <td>0</td>\n",
       "    </tr>\n",
       "    <tr>\n",
       "      <th>4</th>\n",
       "      <td>835557</td>\n",
       "      <td>1</td>\n",
       "      <td>BTC</td>\n",
       "      <td>2013-05-02</td>\n",
       "      <td>116.379997</td>\n",
       "      <td>125.599998</td>\n",
       "      <td>92.281898</td>\n",
       "      <td>105.209999</td>\n",
       "      <td>0.0</td>\n",
       "      <td>1292189952</td>\n",
       "      <td>Jueves</td>\n",
       "      <td>-11.169998</td>\n",
       "      <td>0</td>\n",
       "    </tr>\n",
       "  </tbody>\n",
       "</table>\n",
       "</div>"
      ],
      "text/plain": [
       "       Id  CoinId Symbol       Date        Open        High         Low  \\\n",
       "0  835561       1    BTC 2013-04-28  135.300003  135.979996  132.100006   \n",
       "1  835560       1    BTC 2013-04-29  134.444000  147.488007  134.000000   \n",
       "2  835559       1    BTC 2013-04-30  144.000000  146.929993  134.050003   \n",
       "3  835558       1    BTC 2013-05-01  139.000000  139.889999  107.720001   \n",
       "4  835557       1    BTC 2013-05-02  116.379997  125.599998   92.281898   \n",
       "\n",
       "        Close  Volume   MarketCap Day_of_week        PnL  Pos_neg  \n",
       "0  134.210007     0.0  1500519936     Domingo  -1.089996        0  \n",
       "1  144.539993     0.0  1491160064       Lunes  10.095993        1  \n",
       "2  139.000000     0.0  1597779968      Martes  -5.000000        0  \n",
       "3  116.989998     0.0  1542819968   Miercoles -22.010002        0  \n",
       "4  105.209999     0.0  1292189952      Jueves -11.169998        0  "
      ]
     },
     "execution_count": 17,
     "metadata": {},
     "output_type": "execute_result"
    }
   ],
   "source": [
    "data.head()"
   ]
  },
  {
   "cell_type": "markdown",
   "metadata": {},
   "source": [
    "### Creo una columna para calcular los retornos logaritmicos del PnL (comprar a la apertura y vender al cierre)"
   ]
  },
  {
   "cell_type": "code",
   "execution_count": 18,
   "metadata": {},
   "outputs": [
    {
     "data": {
      "text/html": [
       "<div>\n",
       "<style scoped>\n",
       "    .dataframe tbody tr th:only-of-type {\n",
       "        vertical-align: middle;\n",
       "    }\n",
       "\n",
       "    .dataframe tbody tr th {\n",
       "        vertical-align: top;\n",
       "    }\n",
       "\n",
       "    .dataframe thead th {\n",
       "        text-align: right;\n",
       "    }\n",
       "</style>\n",
       "<table border=\"1\" class=\"dataframe\">\n",
       "  <thead>\n",
       "    <tr style=\"text-align: right;\">\n",
       "      <th></th>\n",
       "      <th>Id</th>\n",
       "      <th>CoinId</th>\n",
       "      <th>Symbol</th>\n",
       "      <th>Date</th>\n",
       "      <th>Open</th>\n",
       "      <th>High</th>\n",
       "      <th>Low</th>\n",
       "      <th>Close</th>\n",
       "      <th>Volume</th>\n",
       "      <th>MarketCap</th>\n",
       "      <th>Day_of_week</th>\n",
       "      <th>PnL</th>\n",
       "      <th>Pos_neg</th>\n",
       "      <th>Log_Ret_PnL</th>\n",
       "    </tr>\n",
       "  </thead>\n",
       "  <tbody>\n",
       "    <tr>\n",
       "      <th>0</th>\n",
       "      <td>835561</td>\n",
       "      <td>1</td>\n",
       "      <td>BTC</td>\n",
       "      <td>2013-04-28</td>\n",
       "      <td>135.300003</td>\n",
       "      <td>135.979996</td>\n",
       "      <td>132.100006</td>\n",
       "      <td>134.210007</td>\n",
       "      <td>0.0</td>\n",
       "      <td>1500519936</td>\n",
       "      <td>Domingo</td>\n",
       "      <td>-1.089996</td>\n",
       "      <td>0</td>\n",
       "      <td>-0.008089</td>\n",
       "    </tr>\n",
       "    <tr>\n",
       "      <th>1</th>\n",
       "      <td>835560</td>\n",
       "      <td>1</td>\n",
       "      <td>BTC</td>\n",
       "      <td>2013-04-29</td>\n",
       "      <td>134.444000</td>\n",
       "      <td>147.488007</td>\n",
       "      <td>134.000000</td>\n",
       "      <td>144.539993</td>\n",
       "      <td>0.0</td>\n",
       "      <td>1491160064</td>\n",
       "      <td>Lunes</td>\n",
       "      <td>10.095993</td>\n",
       "      <td>1</td>\n",
       "      <td>0.072408</td>\n",
       "    </tr>\n",
       "    <tr>\n",
       "      <th>2</th>\n",
       "      <td>835559</td>\n",
       "      <td>1</td>\n",
       "      <td>BTC</td>\n",
       "      <td>2013-04-30</td>\n",
       "      <td>144.000000</td>\n",
       "      <td>146.929993</td>\n",
       "      <td>134.050003</td>\n",
       "      <td>139.000000</td>\n",
       "      <td>0.0</td>\n",
       "      <td>1597779968</td>\n",
       "      <td>Martes</td>\n",
       "      <td>-5.000000</td>\n",
       "      <td>0</td>\n",
       "      <td>-0.035339</td>\n",
       "    </tr>\n",
       "    <tr>\n",
       "      <th>3</th>\n",
       "      <td>835558</td>\n",
       "      <td>1</td>\n",
       "      <td>BTC</td>\n",
       "      <td>2013-05-01</td>\n",
       "      <td>139.000000</td>\n",
       "      <td>139.889999</td>\n",
       "      <td>107.720001</td>\n",
       "      <td>116.989998</td>\n",
       "      <td>0.0</td>\n",
       "      <td>1542819968</td>\n",
       "      <td>Miercoles</td>\n",
       "      <td>-22.010002</td>\n",
       "      <td>0</td>\n",
       "      <td>-0.172385</td>\n",
       "    </tr>\n",
       "    <tr>\n",
       "      <th>4</th>\n",
       "      <td>835557</td>\n",
       "      <td>1</td>\n",
       "      <td>BTC</td>\n",
       "      <td>2013-05-02</td>\n",
       "      <td>116.379997</td>\n",
       "      <td>125.599998</td>\n",
       "      <td>92.281898</td>\n",
       "      <td>105.209999</td>\n",
       "      <td>0.0</td>\n",
       "      <td>1292189952</td>\n",
       "      <td>Jueves</td>\n",
       "      <td>-11.169998</td>\n",
       "      <td>0</td>\n",
       "      <td>-0.100902</td>\n",
       "    </tr>\n",
       "  </tbody>\n",
       "</table>\n",
       "</div>"
      ],
      "text/plain": [
       "       Id  CoinId Symbol       Date        Open        High         Low  \\\n",
       "0  835561       1    BTC 2013-04-28  135.300003  135.979996  132.100006   \n",
       "1  835560       1    BTC 2013-04-29  134.444000  147.488007  134.000000   \n",
       "2  835559       1    BTC 2013-04-30  144.000000  146.929993  134.050003   \n",
       "3  835558       1    BTC 2013-05-01  139.000000  139.889999  107.720001   \n",
       "4  835557       1    BTC 2013-05-02  116.379997  125.599998   92.281898   \n",
       "\n",
       "        Close  Volume   MarketCap Day_of_week        PnL  Pos_neg  Log_Ret_PnL  \n",
       "0  134.210007     0.0  1500519936     Domingo  -1.089996        0    -0.008089  \n",
       "1  144.539993     0.0  1491160064       Lunes  10.095993        1     0.072408  \n",
       "2  139.000000     0.0  1597779968      Martes  -5.000000        0    -0.035339  \n",
       "3  116.989998     0.0  1542819968   Miercoles -22.010002        0    -0.172385  \n",
       "4  105.209999     0.0  1292189952      Jueves -11.169998        0    -0.100902  "
      ]
     },
     "execution_count": 18,
     "metadata": {},
     "output_type": "execute_result"
    }
   ],
   "source": [
    "data['Log_Ret_PnL'] =  np.log(data['Close']/data['Open'])\n",
    "data.head()"
   ]
  },
  {
   "cell_type": "markdown",
   "metadata": {},
   "source": [
    "### Sumamos los Pos_neg segun el dia de semana\n",
    "Esto nos va a permitir saber cuantos dias son los positivos, sobre el total de observaciones y la probabilidad que el PnL (Open-Close) sea positiva"
   ]
  },
  {
   "cell_type": "code",
   "execution_count": 19,
   "metadata": {},
   "outputs": [
    {
     "data": {
      "text/html": [
       "<div>\n",
       "<style scoped>\n",
       "    .dataframe tbody tr th:only-of-type {\n",
       "        vertical-align: middle;\n",
       "    }\n",
       "\n",
       "    .dataframe tbody tr th {\n",
       "        vertical-align: top;\n",
       "    }\n",
       "\n",
       "    .dataframe thead th {\n",
       "        text-align: right;\n",
       "    }\n",
       "</style>\n",
       "<table border=\"1\" class=\"dataframe\">\n",
       "  <thead>\n",
       "    <tr style=\"text-align: right;\">\n",
       "      <th></th>\n",
       "      <th>sum</th>\n",
       "      <th>size</th>\n",
       "      <th>Prob_PnL +</th>\n",
       "    </tr>\n",
       "    <tr>\n",
       "      <th>Day_of_week</th>\n",
       "      <th></th>\n",
       "      <th></th>\n",
       "      <th></th>\n",
       "    </tr>\n",
       "  </thead>\n",
       "  <tbody>\n",
       "    <tr>\n",
       "      <th>Domingo</th>\n",
       "      <td>140</td>\n",
       "      <td>275</td>\n",
       "      <td>0.509091</td>\n",
       "    </tr>\n",
       "    <tr>\n",
       "      <th>Jueves</th>\n",
       "      <td>148</td>\n",
       "      <td>275</td>\n",
       "      <td>0.538182</td>\n",
       "    </tr>\n",
       "    <tr>\n",
       "      <th>Lunes</th>\n",
       "      <td>157</td>\n",
       "      <td>275</td>\n",
       "      <td>0.570909</td>\n",
       "    </tr>\n",
       "    <tr>\n",
       "      <th>Martes</th>\n",
       "      <td>151</td>\n",
       "      <td>275</td>\n",
       "      <td>0.549091</td>\n",
       "    </tr>\n",
       "    <tr>\n",
       "      <th>Miercoles</th>\n",
       "      <td>137</td>\n",
       "      <td>275</td>\n",
       "      <td>0.498182</td>\n",
       "    </tr>\n",
       "    <tr>\n",
       "      <th>Sabado</th>\n",
       "      <td>157</td>\n",
       "      <td>275</td>\n",
       "      <td>0.570909</td>\n",
       "    </tr>\n",
       "    <tr>\n",
       "      <th>Viernes</th>\n",
       "      <td>155</td>\n",
       "      <td>275</td>\n",
       "      <td>0.563636</td>\n",
       "    </tr>\n",
       "  </tbody>\n",
       "</table>\n",
       "</div>"
      ],
      "text/plain": [
       "             sum  size  Prob_PnL +\n",
       "Day_of_week                       \n",
       "Domingo      140   275    0.509091\n",
       "Jueves       148   275    0.538182\n",
       "Lunes        157   275    0.570909\n",
       "Martes       151   275    0.549091\n",
       "Miercoles    137   275    0.498182\n",
       "Sabado       157   275    0.570909\n",
       "Viernes      155   275    0.563636"
      ]
     },
     "execution_count": 19,
     "metadata": {},
     "output_type": "execute_result"
    }
   ],
   "source": [
    "group1 = data.groupby(['Day_of_week']).agg(['sum','size'])['Pos_neg']\n",
    "group1['Prob_PnL +'] = group1['sum']/group1['size']\n",
    "group1"
   ]
  },
  {
   "cell_type": "markdown",
   "metadata": {},
   "source": [
    "**Los dias mas propensos a cerrar al alza son los Lunes y Sabado con un 57.09% de probabilidad. Mientras que el unico dia historicamente predispuesto a cerrar a la baja son los miercoles con un 1-0.498182 = 0.501818% que es igual a cerrar casi neutro.**"
   ]
  },
  {
   "cell_type": "markdown",
   "metadata": {},
   "source": [
    "### Agrupamos segun dia de semana y segun si el PnL fue negativo o positivo\n",
    "\n",
    "Ademas de eso, calculamos la media de los retornos logaritmicos segun el Pos_neg"
   ]
  },
  {
   "cell_type": "code",
   "execution_count": 20,
   "metadata": {},
   "outputs": [
    {
     "data": {
      "text/html": [
       "<div>\n",
       "<style scoped>\n",
       "    .dataframe tbody tr th:only-of-type {\n",
       "        vertical-align: middle;\n",
       "    }\n",
       "\n",
       "    .dataframe tbody tr th {\n",
       "        vertical-align: top;\n",
       "    }\n",
       "\n",
       "    .dataframe thead tr th {\n",
       "        text-align: left;\n",
       "    }\n",
       "\n",
       "    .dataframe thead tr:last-of-type th {\n",
       "        text-align: right;\n",
       "    }\n",
       "</style>\n",
       "<table border=\"1\" class=\"dataframe\">\n",
       "  <thead>\n",
       "    <tr>\n",
       "      <th></th>\n",
       "      <th></th>\n",
       "      <th>Log_Ret_PnL</th>\n",
       "    </tr>\n",
       "    <tr>\n",
       "      <th></th>\n",
       "      <th></th>\n",
       "      <th>mean</th>\n",
       "    </tr>\n",
       "    <tr>\n",
       "      <th>Day_of_week</th>\n",
       "      <th>Pos_neg</th>\n",
       "      <th></th>\n",
       "    </tr>\n",
       "  </thead>\n",
       "  <tbody>\n",
       "    <tr>\n",
       "      <th rowspan=\"2\" valign=\"top\">Domingo</th>\n",
       "      <th>0</th>\n",
       "      <td>-0.023459</td>\n",
       "    </tr>\n",
       "    <tr>\n",
       "      <th>1</th>\n",
       "      <td>0.023709</td>\n",
       "    </tr>\n",
       "    <tr>\n",
       "      <th rowspan=\"2\" valign=\"top\">Jueves</th>\n",
       "      <th>0</th>\n",
       "      <td>-0.033280</td>\n",
       "    </tr>\n",
       "    <tr>\n",
       "      <th>1</th>\n",
       "      <td>0.032173</td>\n",
       "    </tr>\n",
       "    <tr>\n",
       "      <th rowspan=\"2\" valign=\"top\">Lunes</th>\n",
       "      <th>0</th>\n",
       "      <td>-0.024538</td>\n",
       "    </tr>\n",
       "    <tr>\n",
       "      <th>1</th>\n",
       "      <td>0.031609</td>\n",
       "    </tr>\n",
       "    <tr>\n",
       "      <th rowspan=\"2\" valign=\"top\">Martes</th>\n",
       "      <th>0</th>\n",
       "      <td>-0.028472</td>\n",
       "    </tr>\n",
       "    <tr>\n",
       "      <th>1</th>\n",
       "      <td>0.028233</td>\n",
       "    </tr>\n",
       "    <tr>\n",
       "      <th rowspan=\"2\" valign=\"top\">Miercoles</th>\n",
       "      <th>0</th>\n",
       "      <td>-0.031667</td>\n",
       "    </tr>\n",
       "    <tr>\n",
       "      <th>1</th>\n",
       "      <td>0.027054</td>\n",
       "    </tr>\n",
       "    <tr>\n",
       "      <th rowspan=\"2\" valign=\"top\">Sabado</th>\n",
       "      <th>0</th>\n",
       "      <td>-0.025042</td>\n",
       "    </tr>\n",
       "    <tr>\n",
       "      <th>1</th>\n",
       "      <td>0.024316</td>\n",
       "    </tr>\n",
       "    <tr>\n",
       "      <th rowspan=\"2\" valign=\"top\">Viernes</th>\n",
       "      <th>0</th>\n",
       "      <td>-0.033283</td>\n",
       "    </tr>\n",
       "    <tr>\n",
       "      <th>1</th>\n",
       "      <td>0.025606</td>\n",
       "    </tr>\n",
       "  </tbody>\n",
       "</table>\n",
       "</div>"
      ],
      "text/plain": [
       "                    Log_Ret_PnL\n",
       "                           mean\n",
       "Day_of_week Pos_neg            \n",
       "Domingo     0         -0.023459\n",
       "            1          0.023709\n",
       "Jueves      0         -0.033280\n",
       "            1          0.032173\n",
       "Lunes       0         -0.024538\n",
       "            1          0.031609\n",
       "Martes      0         -0.028472\n",
       "            1          0.028233\n",
       "Miercoles   0         -0.031667\n",
       "            1          0.027054\n",
       "Sabado      0         -0.025042\n",
       "            1          0.024316\n",
       "Viernes     0         -0.033283\n",
       "            1          0.025606"
      ]
     },
     "execution_count": 20,
     "metadata": {},
     "output_type": "execute_result"
    }
   ],
   "source": [
    "data.groupby(['Day_of_week','Pos_neg']).agg(['mean'])[['Log_Ret_PnL']]"
   ]
  },
  {
   "cell_type": "markdown",
   "metadata": {},
   "source": [
    "**Como se analizo previamente, los lunes y sabados que son los dias mas inclinados historicamente a cerrar al alza. Los mismos tienen un promedio de rendimiento de 3.16% y 2.43% en estos dias de PnL positivos.**"
   ]
  }
 ],
 "metadata": {
  "kernelspec": {
   "display_name": "Python 3",
   "language": "python",
   "name": "python3"
  },
  "language_info": {
   "codemirror_mode": {
    "name": "ipython",
    "version": 3
   },
   "file_extension": ".py",
   "mimetype": "text/x-python",
   "name": "python",
   "nbconvert_exporter": "python",
   "pygments_lexer": "ipython3",
   "version": "3.6.4"
  }
 },
 "nbformat": 4,
 "nbformat_minor": 2
}
