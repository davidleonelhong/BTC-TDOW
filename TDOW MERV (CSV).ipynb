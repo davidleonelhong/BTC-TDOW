{
 "cells": [
  {
   "cell_type": "markdown",
   "metadata": {},
   "source": [
    "# Trading Day Of the Week (TDOW)\n",
    "\n",
    "Vamos a analizar cuantitativamente la serie historica de precios del **MERVAL** (5 años aprox) para observar **la probabilidad de que el cierre diario del activo sea al alza o baja segun el dia de la semana.** Esto nos va a servir como un indicador para tomar en cuenta al momento de operar, y tambien va a servir para explicar que los mercados no se comportan como **random walk** debido a que estan predispuesto a cerrar arriba o abajo segun el tipo del dia. Aparte de calcular la probabilidad, vamos a calcular **el promedio del rendimiento segun cada dia de la semana.** Se tomaron datos de Octubre 1996 a septiembre 2018."
   ]
  },
  {
   "cell_type": "markdown",
   "metadata": {},
   "source": [
    "### Importamos los paquetes y librerias necesarios para el analisis"
   ]
  },
  {
   "cell_type": "code",
   "execution_count": 1,
   "metadata": {},
   "outputs": [],
   "source": [
    "import pandas as pd\n",
    "import numpy as np"
   ]
  },
  {
   "cell_type": "markdown",
   "metadata": {},
   "source": [
    "### Cambio el directorio a la carpeta \"Datasets\" donde voy a tener el archivo de los datos historicos"
   ]
  },
  {
   "cell_type": "code",
   "execution_count": 2,
   "metadata": {},
   "outputs": [
    {
     "name": "stdout",
     "output_type": "stream",
     "text": [
      "C:\\Users\\david\\Documents\\Datasets\n"
     ]
    }
   ],
   "source": [
    "cd C:\\Users\\david\\Documents\\Datasets"
   ]
  },
  {
   "cell_type": "markdown",
   "metadata": {},
   "source": [
    "### Corroboro que la direccion presente de trabajo sea igual al directorio cambiado, donde estan las series"
   ]
  },
  {
   "cell_type": "code",
   "execution_count": 3,
   "metadata": {},
   "outputs": [
    {
     "data": {
      "text/plain": [
       "'C:\\\\Users\\\\david\\\\Documents\\\\Datasets'"
      ]
     },
     "execution_count": 3,
     "metadata": {},
     "output_type": "execute_result"
    }
   ],
   "source": [
    "pwd"
   ]
  },
  {
   "cell_type": "markdown",
   "metadata": {},
   "source": [
    "### Importo el CSV y lo agrego a un dataframe llamado \"data\""
   ]
  },
  {
   "cell_type": "code",
   "execution_count": 4,
   "metadata": {},
   "outputs": [],
   "source": [
    "data = pd.read_csv('MERV.csv',low_memory=False)"
   ]
  },
  {
   "cell_type": "markdown",
   "metadata": {},
   "source": [
    "### Uso .head() para visualizar las 10 primeras filas del dataframe"
   ]
  },
  {
   "cell_type": "code",
   "execution_count": 5,
   "metadata": {},
   "outputs": [
    {
     "data": {
      "text/html": [
       "<div>\n",
       "<style scoped>\n",
       "    .dataframe tbody tr th:only-of-type {\n",
       "        vertical-align: middle;\n",
       "    }\n",
       "\n",
       "    .dataframe tbody tr th {\n",
       "        vertical-align: top;\n",
       "    }\n",
       "\n",
       "    .dataframe thead th {\n",
       "        text-align: right;\n",
       "    }\n",
       "</style>\n",
       "<table border=\"1\" class=\"dataframe\">\n",
       "  <thead>\n",
       "    <tr style=\"text-align: right;\">\n",
       "      <th></th>\n",
       "      <th>Date</th>\n",
       "      <th>Open</th>\n",
       "      <th>High</th>\n",
       "      <th>Low</th>\n",
       "      <th>Close</th>\n",
       "      <th>Adj Close</th>\n",
       "      <th>Volume</th>\n",
       "    </tr>\n",
       "  </thead>\n",
       "  <tbody>\n",
       "    <tr>\n",
       "      <th>0</th>\n",
       "      <td>1996-10-08</td>\n",
       "      <td>579.429993</td>\n",
       "      <td>592.650024</td>\n",
       "      <td>579.429993</td>\n",
       "      <td>590.109985</td>\n",
       "      <td>590.109985</td>\n",
       "      <td>0.0</td>\n",
       "    </tr>\n",
       "    <tr>\n",
       "      <th>1</th>\n",
       "      <td>1996-10-09</td>\n",
       "      <td>590.109985</td>\n",
       "      <td>590.830017</td>\n",
       "      <td>582.210022</td>\n",
       "      <td>583.140015</td>\n",
       "      <td>583.140015</td>\n",
       "      <td>0.0</td>\n",
       "    </tr>\n",
       "    <tr>\n",
       "      <th>2</th>\n",
       "      <td>1996-10-10</td>\n",
       "      <td>583.239990</td>\n",
       "      <td>584.609985</td>\n",
       "      <td>578.270020</td>\n",
       "      <td>584.609985</td>\n",
       "      <td>584.609985</td>\n",
       "      <td>0.0</td>\n",
       "    </tr>\n",
       "    <tr>\n",
       "      <th>3</th>\n",
       "      <td>1996-10-11</td>\n",
       "      <td>584.909973</td>\n",
       "      <td>585.869995</td>\n",
       "      <td>582.440002</td>\n",
       "      <td>584.320007</td>\n",
       "      <td>584.320007</td>\n",
       "      <td>0.0</td>\n",
       "    </tr>\n",
       "    <tr>\n",
       "      <th>4</th>\n",
       "      <td>1996-10-14</td>\n",
       "      <td>584.289978</td>\n",
       "      <td>584.289978</td>\n",
       "      <td>580.609985</td>\n",
       "      <td>584.030029</td>\n",
       "      <td>584.030029</td>\n",
       "      <td>0.0</td>\n",
       "    </tr>\n",
       "  </tbody>\n",
       "</table>\n",
       "</div>"
      ],
      "text/plain": [
       "         Date        Open        High         Low       Close   Adj Close  \\\n",
       "0  1996-10-08  579.429993  592.650024  579.429993  590.109985  590.109985   \n",
       "1  1996-10-09  590.109985  590.830017  582.210022  583.140015  583.140015   \n",
       "2  1996-10-10  583.239990  584.609985  578.270020  584.609985  584.609985   \n",
       "3  1996-10-11  584.909973  585.869995  582.440002  584.320007  584.320007   \n",
       "4  1996-10-14  584.289978  584.289978  580.609985  584.030029  584.030029   \n",
       "\n",
       "   Volume  \n",
       "0     0.0  \n",
       "1     0.0  \n",
       "2     0.0  \n",
       "3     0.0  \n",
       "4     0.0  "
      ]
     },
     "execution_count": 5,
     "metadata": {},
     "output_type": "execute_result"
    }
   ],
   "source": [
    "data.head()"
   ]
  },
  {
   "cell_type": "markdown",
   "metadata": {},
   "source": [
    "### Observo la forma de la serie (filas x columnas)"
   ]
  },
  {
   "cell_type": "code",
   "execution_count": 6,
   "metadata": {},
   "outputs": [
    {
     "data": {
      "text/plain": [
       "(5536, 7)"
      ]
     },
     "execution_count": 6,
     "metadata": {},
     "output_type": "execute_result"
    }
   ],
   "source": [
    "data.shape"
   ]
  },
  {
   "cell_type": "markdown",
   "metadata": {},
   "source": [
    "### Busco si faltan valores, True=Si False=No\n",
    "\n",
    "Como aparece todo False (No), comprobamos que en este otro sentido, la serie esta \"limpia\"."
   ]
  },
  {
   "cell_type": "code",
   "execution_count": 7,
   "metadata": {},
   "outputs": [
    {
     "data": {
      "text/plain": [
       "Date         False\n",
       "Open          True\n",
       "High          True\n",
       "Low           True\n",
       "Close         True\n",
       "Adj Close     True\n",
       "Volume        True\n",
       "dtype: bool"
      ]
     },
     "execution_count": 7,
     "metadata": {},
     "output_type": "execute_result"
    }
   ],
   "source": [
    "data.isnull().any()"
   ]
  },
  {
   "cell_type": "markdown",
   "metadata": {},
   "source": [
    "### Como tiene valores que faltan, comparo y veo si sacando los datos erroneos, cambia substancialmente las observiones"
   ]
  },
  {
   "cell_type": "code",
   "execution_count": 8,
   "metadata": {},
   "outputs": [
    {
     "data": {
      "text/plain": [
       "(5536, 5371)"
      ]
     },
     "execution_count": 8,
     "metadata": {},
     "output_type": "execute_result"
    }
   ],
   "source": [
    "len(data), len (data.dropna())"
   ]
  },
  {
   "cell_type": "markdown",
   "metadata": {},
   "source": [
    "### Cambio los valores de \"data\" por la serie limpia"
   ]
  },
  {
   "cell_type": "code",
   "execution_count": 9,
   "metadata": {},
   "outputs": [],
   "source": [
    "data = data.dropna()"
   ]
  },
  {
   "cell_type": "markdown",
   "metadata": {},
   "source": [
    "### Corroboro que la cant de observaciones cambio"
   ]
  },
  {
   "cell_type": "code",
   "execution_count": 10,
   "metadata": {},
   "outputs": [
    {
     "data": {
      "text/plain": [
       "5371"
      ]
     },
     "execution_count": 10,
     "metadata": {},
     "output_type": "execute_result"
    }
   ],
   "source": [
    "len(data)"
   ]
  },
  {
   "cell_type": "markdown",
   "metadata": {},
   "source": [
    "### Cambio el formato de los datos de la columna \"Date\" al de fecha mediante pd.to_datetime"
   ]
  },
  {
   "cell_type": "code",
   "execution_count": 11,
   "metadata": {},
   "outputs": [],
   "source": [
    "data['Date'] = pd.to_datetime(data['Date'])"
   ]
  },
  {
   "cell_type": "markdown",
   "metadata": {},
   "source": [
    "### Una vez que esta en formato datetime, puedo cambiar las fechas segun dia de semana\n",
    "\n",
    "Utilizo .head() para ver las primeras 5 filas segun el formato del dia de semana"
   ]
  },
  {
   "cell_type": "code",
   "execution_count": 12,
   "metadata": {},
   "outputs": [
    {
     "data": {
      "text/plain": [
       "0    1\n",
       "1    2\n",
       "2    3\n",
       "3    4\n",
       "4    0\n",
       "Name: Date, dtype: int64"
      ]
     },
     "execution_count": 12,
     "metadata": {},
     "output_type": "execute_result"
    }
   ],
   "source": [
    "data['Date'].dt.weekday.head()"
   ]
  },
  {
   "cell_type": "markdown",
   "metadata": {},
   "source": [
    "### Creo un diccionario para asignarle un string value al formato numerico del dia de semana"
   ]
  },
  {
   "cell_type": "code",
   "execution_count": 13,
   "metadata": {},
   "outputs": [],
   "source": [
    "day_dict = {\n",
    "    0:'Lunes',\n",
    "    1:'Martes',\n",
    "    2:'Miercoles',\n",
    "    3:'Jueves',\n",
    "    4:'Viernes',\n",
    "    5:'Sabado',\n",
    "    6:'Domingo'\n",
    "           }"
   ]
  },
  {
   "cell_type": "markdown",
   "metadata": {},
   "source": [
    "### Agrego una columna para asignarle el dia de semana a cada fecha, utilizando el diccionario que creamos antes"
   ]
  },
  {
   "cell_type": "code",
   "execution_count": 14,
   "metadata": {},
   "outputs": [],
   "source": [
    "data['Day_of_week']=data['Date'].dt.weekday.map(day_dict)"
   ]
  },
  {
   "cell_type": "code",
   "execution_count": 15,
   "metadata": {},
   "outputs": [
    {
     "data": {
      "text/html": [
       "<div>\n",
       "<style scoped>\n",
       "    .dataframe tbody tr th:only-of-type {\n",
       "        vertical-align: middle;\n",
       "    }\n",
       "\n",
       "    .dataframe tbody tr th {\n",
       "        vertical-align: top;\n",
       "    }\n",
       "\n",
       "    .dataframe thead th {\n",
       "        text-align: right;\n",
       "    }\n",
       "</style>\n",
       "<table border=\"1\" class=\"dataframe\">\n",
       "  <thead>\n",
       "    <tr style=\"text-align: right;\">\n",
       "      <th></th>\n",
       "      <th>Date</th>\n",
       "      <th>Open</th>\n",
       "      <th>High</th>\n",
       "      <th>Low</th>\n",
       "      <th>Close</th>\n",
       "      <th>Adj Close</th>\n",
       "      <th>Volume</th>\n",
       "      <th>Day_of_week</th>\n",
       "    </tr>\n",
       "  </thead>\n",
       "  <tbody>\n",
       "    <tr>\n",
       "      <th>0</th>\n",
       "      <td>1996-10-08</td>\n",
       "      <td>579.429993</td>\n",
       "      <td>592.650024</td>\n",
       "      <td>579.429993</td>\n",
       "      <td>590.109985</td>\n",
       "      <td>590.109985</td>\n",
       "      <td>0.0</td>\n",
       "      <td>Martes</td>\n",
       "    </tr>\n",
       "    <tr>\n",
       "      <th>1</th>\n",
       "      <td>1996-10-09</td>\n",
       "      <td>590.109985</td>\n",
       "      <td>590.830017</td>\n",
       "      <td>582.210022</td>\n",
       "      <td>583.140015</td>\n",
       "      <td>583.140015</td>\n",
       "      <td>0.0</td>\n",
       "      <td>Miercoles</td>\n",
       "    </tr>\n",
       "    <tr>\n",
       "      <th>2</th>\n",
       "      <td>1996-10-10</td>\n",
       "      <td>583.239990</td>\n",
       "      <td>584.609985</td>\n",
       "      <td>578.270020</td>\n",
       "      <td>584.609985</td>\n",
       "      <td>584.609985</td>\n",
       "      <td>0.0</td>\n",
       "      <td>Jueves</td>\n",
       "    </tr>\n",
       "    <tr>\n",
       "      <th>3</th>\n",
       "      <td>1996-10-11</td>\n",
       "      <td>584.909973</td>\n",
       "      <td>585.869995</td>\n",
       "      <td>582.440002</td>\n",
       "      <td>584.320007</td>\n",
       "      <td>584.320007</td>\n",
       "      <td>0.0</td>\n",
       "      <td>Viernes</td>\n",
       "    </tr>\n",
       "    <tr>\n",
       "      <th>4</th>\n",
       "      <td>1996-10-14</td>\n",
       "      <td>584.289978</td>\n",
       "      <td>584.289978</td>\n",
       "      <td>580.609985</td>\n",
       "      <td>584.030029</td>\n",
       "      <td>584.030029</td>\n",
       "      <td>0.0</td>\n",
       "      <td>Lunes</td>\n",
       "    </tr>\n",
       "  </tbody>\n",
       "</table>\n",
       "</div>"
      ],
      "text/plain": [
       "        Date        Open        High         Low       Close   Adj Close  \\\n",
       "0 1996-10-08  579.429993  592.650024  579.429993  590.109985  590.109985   \n",
       "1 1996-10-09  590.109985  590.830017  582.210022  583.140015  583.140015   \n",
       "2 1996-10-10  583.239990  584.609985  578.270020  584.609985  584.609985   \n",
       "3 1996-10-11  584.909973  585.869995  582.440002  584.320007  584.320007   \n",
       "4 1996-10-14  584.289978  584.289978  580.609985  584.030029  584.030029   \n",
       "\n",
       "   Volume Day_of_week  \n",
       "0     0.0      Martes  \n",
       "1     0.0   Miercoles  \n",
       "2     0.0      Jueves  \n",
       "3     0.0     Viernes  \n",
       "4     0.0       Lunes  "
      ]
     },
     "execution_count": 15,
     "metadata": {},
     "output_type": "execute_result"
    }
   ],
   "source": [
    "data.head()"
   ]
  },
  {
   "cell_type": "markdown",
   "metadata": {},
   "source": [
    "### Creo una columna para calcular el PnL diario\n",
    "\n",
    "Calculamos la ganancia que obtendriamos al comprar a la apertura y vender al cierre"
   ]
  },
  {
   "cell_type": "code",
   "execution_count": 16,
   "metadata": {},
   "outputs": [],
   "source": [
    "data['PnL'] = data['Close'] - data['Open']"
   ]
  },
  {
   "cell_type": "markdown",
   "metadata": {},
   "source": [
    "### Creo una columna para referirme si el PnL fue negativo o postivio\n",
    "0 = Negativo\n",
    "1 = Positivo"
   ]
  },
  {
   "cell_type": "code",
   "execution_count": 17,
   "metadata": {},
   "outputs": [],
   "source": [
    "data['Pos_neg'] = data['PnL'].apply(lambda x: int(x >=0))"
   ]
  },
  {
   "cell_type": "code",
   "execution_count": 18,
   "metadata": {},
   "outputs": [
    {
     "data": {
      "text/html": [
       "<div>\n",
       "<style scoped>\n",
       "    .dataframe tbody tr th:only-of-type {\n",
       "        vertical-align: middle;\n",
       "    }\n",
       "\n",
       "    .dataframe tbody tr th {\n",
       "        vertical-align: top;\n",
       "    }\n",
       "\n",
       "    .dataframe thead th {\n",
       "        text-align: right;\n",
       "    }\n",
       "</style>\n",
       "<table border=\"1\" class=\"dataframe\">\n",
       "  <thead>\n",
       "    <tr style=\"text-align: right;\">\n",
       "      <th></th>\n",
       "      <th>Date</th>\n",
       "      <th>Open</th>\n",
       "      <th>High</th>\n",
       "      <th>Low</th>\n",
       "      <th>Close</th>\n",
       "      <th>Adj Close</th>\n",
       "      <th>Volume</th>\n",
       "      <th>Day_of_week</th>\n",
       "      <th>PnL</th>\n",
       "      <th>Pos_neg</th>\n",
       "    </tr>\n",
       "  </thead>\n",
       "  <tbody>\n",
       "    <tr>\n",
       "      <th>0</th>\n",
       "      <td>1996-10-08</td>\n",
       "      <td>579.429993</td>\n",
       "      <td>592.650024</td>\n",
       "      <td>579.429993</td>\n",
       "      <td>590.109985</td>\n",
       "      <td>590.109985</td>\n",
       "      <td>0.0</td>\n",
       "      <td>Martes</td>\n",
       "      <td>10.679992</td>\n",
       "      <td>1</td>\n",
       "    </tr>\n",
       "    <tr>\n",
       "      <th>1</th>\n",
       "      <td>1996-10-09</td>\n",
       "      <td>590.109985</td>\n",
       "      <td>590.830017</td>\n",
       "      <td>582.210022</td>\n",
       "      <td>583.140015</td>\n",
       "      <td>583.140015</td>\n",
       "      <td>0.0</td>\n",
       "      <td>Miercoles</td>\n",
       "      <td>-6.969970</td>\n",
       "      <td>0</td>\n",
       "    </tr>\n",
       "    <tr>\n",
       "      <th>2</th>\n",
       "      <td>1996-10-10</td>\n",
       "      <td>583.239990</td>\n",
       "      <td>584.609985</td>\n",
       "      <td>578.270020</td>\n",
       "      <td>584.609985</td>\n",
       "      <td>584.609985</td>\n",
       "      <td>0.0</td>\n",
       "      <td>Jueves</td>\n",
       "      <td>1.369995</td>\n",
       "      <td>1</td>\n",
       "    </tr>\n",
       "    <tr>\n",
       "      <th>3</th>\n",
       "      <td>1996-10-11</td>\n",
       "      <td>584.909973</td>\n",
       "      <td>585.869995</td>\n",
       "      <td>582.440002</td>\n",
       "      <td>584.320007</td>\n",
       "      <td>584.320007</td>\n",
       "      <td>0.0</td>\n",
       "      <td>Viernes</td>\n",
       "      <td>-0.589966</td>\n",
       "      <td>0</td>\n",
       "    </tr>\n",
       "    <tr>\n",
       "      <th>4</th>\n",
       "      <td>1996-10-14</td>\n",
       "      <td>584.289978</td>\n",
       "      <td>584.289978</td>\n",
       "      <td>580.609985</td>\n",
       "      <td>584.030029</td>\n",
       "      <td>584.030029</td>\n",
       "      <td>0.0</td>\n",
       "      <td>Lunes</td>\n",
       "      <td>-0.259949</td>\n",
       "      <td>0</td>\n",
       "    </tr>\n",
       "  </tbody>\n",
       "</table>\n",
       "</div>"
      ],
      "text/plain": [
       "        Date        Open        High         Low       Close   Adj Close  \\\n",
       "0 1996-10-08  579.429993  592.650024  579.429993  590.109985  590.109985   \n",
       "1 1996-10-09  590.109985  590.830017  582.210022  583.140015  583.140015   \n",
       "2 1996-10-10  583.239990  584.609985  578.270020  584.609985  584.609985   \n",
       "3 1996-10-11  584.909973  585.869995  582.440002  584.320007  584.320007   \n",
       "4 1996-10-14  584.289978  584.289978  580.609985  584.030029  584.030029   \n",
       "\n",
       "   Volume Day_of_week        PnL  Pos_neg  \n",
       "0     0.0      Martes  10.679992        1  \n",
       "1     0.0   Miercoles  -6.969970        0  \n",
       "2     0.0      Jueves   1.369995        1  \n",
       "3     0.0     Viernes  -0.589966        0  \n",
       "4     0.0       Lunes  -0.259949        0  "
      ]
     },
     "execution_count": 18,
     "metadata": {},
     "output_type": "execute_result"
    }
   ],
   "source": [
    "data.head()"
   ]
  },
  {
   "cell_type": "markdown",
   "metadata": {},
   "source": [
    "### Creo una columna para calcular los retornos logaritmicos del PnL (comprar a la apertura y vender al cierre)"
   ]
  },
  {
   "cell_type": "code",
   "execution_count": 19,
   "metadata": {},
   "outputs": [
    {
     "data": {
      "text/html": [
       "<div>\n",
       "<style scoped>\n",
       "    .dataframe tbody tr th:only-of-type {\n",
       "        vertical-align: middle;\n",
       "    }\n",
       "\n",
       "    .dataframe tbody tr th {\n",
       "        vertical-align: top;\n",
       "    }\n",
       "\n",
       "    .dataframe thead th {\n",
       "        text-align: right;\n",
       "    }\n",
       "</style>\n",
       "<table border=\"1\" class=\"dataframe\">\n",
       "  <thead>\n",
       "    <tr style=\"text-align: right;\">\n",
       "      <th></th>\n",
       "      <th>Date</th>\n",
       "      <th>Open</th>\n",
       "      <th>High</th>\n",
       "      <th>Low</th>\n",
       "      <th>Close</th>\n",
       "      <th>Adj Close</th>\n",
       "      <th>Volume</th>\n",
       "      <th>Day_of_week</th>\n",
       "      <th>PnL</th>\n",
       "      <th>Pos_neg</th>\n",
       "      <th>Log_Ret_PnL</th>\n",
       "    </tr>\n",
       "  </thead>\n",
       "  <tbody>\n",
       "    <tr>\n",
       "      <th>0</th>\n",
       "      <td>1996-10-08</td>\n",
       "      <td>579.429993</td>\n",
       "      <td>592.650024</td>\n",
       "      <td>579.429993</td>\n",
       "      <td>590.109985</td>\n",
       "      <td>590.109985</td>\n",
       "      <td>0.0</td>\n",
       "      <td>Martes</td>\n",
       "      <td>10.679992</td>\n",
       "      <td>1</td>\n",
       "      <td>0.018264</td>\n",
       "    </tr>\n",
       "    <tr>\n",
       "      <th>1</th>\n",
       "      <td>1996-10-09</td>\n",
       "      <td>590.109985</td>\n",
       "      <td>590.830017</td>\n",
       "      <td>582.210022</td>\n",
       "      <td>583.140015</td>\n",
       "      <td>583.140015</td>\n",
       "      <td>0.0</td>\n",
       "      <td>Miercoles</td>\n",
       "      <td>-6.969970</td>\n",
       "      <td>0</td>\n",
       "      <td>-0.011882</td>\n",
       "    </tr>\n",
       "    <tr>\n",
       "      <th>2</th>\n",
       "      <td>1996-10-10</td>\n",
       "      <td>583.239990</td>\n",
       "      <td>584.609985</td>\n",
       "      <td>578.270020</td>\n",
       "      <td>584.609985</td>\n",
       "      <td>584.609985</td>\n",
       "      <td>0.0</td>\n",
       "      <td>Jueves</td>\n",
       "      <td>1.369995</td>\n",
       "      <td>1</td>\n",
       "      <td>0.002346</td>\n",
       "    </tr>\n",
       "    <tr>\n",
       "      <th>3</th>\n",
       "      <td>1996-10-11</td>\n",
       "      <td>584.909973</td>\n",
       "      <td>585.869995</td>\n",
       "      <td>582.440002</td>\n",
       "      <td>584.320007</td>\n",
       "      <td>584.320007</td>\n",
       "      <td>0.0</td>\n",
       "      <td>Viernes</td>\n",
       "      <td>-0.589966</td>\n",
       "      <td>0</td>\n",
       "      <td>-0.001009</td>\n",
       "    </tr>\n",
       "    <tr>\n",
       "      <th>4</th>\n",
       "      <td>1996-10-14</td>\n",
       "      <td>584.289978</td>\n",
       "      <td>584.289978</td>\n",
       "      <td>580.609985</td>\n",
       "      <td>584.030029</td>\n",
       "      <td>584.030029</td>\n",
       "      <td>0.0</td>\n",
       "      <td>Lunes</td>\n",
       "      <td>-0.259949</td>\n",
       "      <td>0</td>\n",
       "      <td>-0.000445</td>\n",
       "    </tr>\n",
       "  </tbody>\n",
       "</table>\n",
       "</div>"
      ],
      "text/plain": [
       "        Date        Open        High         Low       Close   Adj Close  \\\n",
       "0 1996-10-08  579.429993  592.650024  579.429993  590.109985  590.109985   \n",
       "1 1996-10-09  590.109985  590.830017  582.210022  583.140015  583.140015   \n",
       "2 1996-10-10  583.239990  584.609985  578.270020  584.609985  584.609985   \n",
       "3 1996-10-11  584.909973  585.869995  582.440002  584.320007  584.320007   \n",
       "4 1996-10-14  584.289978  584.289978  580.609985  584.030029  584.030029   \n",
       "\n",
       "   Volume Day_of_week        PnL  Pos_neg  Log_Ret_PnL  \n",
       "0     0.0      Martes  10.679992        1     0.018264  \n",
       "1     0.0   Miercoles  -6.969970        0    -0.011882  \n",
       "2     0.0      Jueves   1.369995        1     0.002346  \n",
       "3     0.0     Viernes  -0.589966        0    -0.001009  \n",
       "4     0.0       Lunes  -0.259949        0    -0.000445  "
      ]
     },
     "execution_count": 19,
     "metadata": {},
     "output_type": "execute_result"
    }
   ],
   "source": [
    "data['Log_Ret_PnL'] =  np.log(data['Close']/data['Open'])\n",
    "data.head()"
   ]
  },
  {
   "cell_type": "markdown",
   "metadata": {},
   "source": [
    "### Sumamos los Pos_neg segun el dia de semana\n",
    "Esto nos va a permitir saber cuantos dias son los positivos, sobre el total de observaciones y la probabilidad que el PnL (Open-Close) sea positiva"
   ]
  },
  {
   "cell_type": "code",
   "execution_count": 20,
   "metadata": {},
   "outputs": [
    {
     "data": {
      "text/html": [
       "<div>\n",
       "<style scoped>\n",
       "    .dataframe tbody tr th:only-of-type {\n",
       "        vertical-align: middle;\n",
       "    }\n",
       "\n",
       "    .dataframe tbody tr th {\n",
       "        vertical-align: top;\n",
       "    }\n",
       "\n",
       "    .dataframe thead th {\n",
       "        text-align: right;\n",
       "    }\n",
       "</style>\n",
       "<table border=\"1\" class=\"dataframe\">\n",
       "  <thead>\n",
       "    <tr style=\"text-align: right;\">\n",
       "      <th></th>\n",
       "      <th>sum</th>\n",
       "      <th>size</th>\n",
       "      <th>Prob_PnL +</th>\n",
       "    </tr>\n",
       "    <tr>\n",
       "      <th>Day_of_week</th>\n",
       "      <th></th>\n",
       "      <th></th>\n",
       "      <th></th>\n",
       "    </tr>\n",
       "  </thead>\n",
       "  <tbody>\n",
       "    <tr>\n",
       "      <th>Jueves</th>\n",
       "      <td>559</td>\n",
       "      <td>1083</td>\n",
       "      <td>0.516159</td>\n",
       "    </tr>\n",
       "    <tr>\n",
       "      <th>Lunes</th>\n",
       "      <td>510</td>\n",
       "      <td>1006</td>\n",
       "      <td>0.506958</td>\n",
       "    </tr>\n",
       "    <tr>\n",
       "      <th>Martes</th>\n",
       "      <td>574</td>\n",
       "      <td>1097</td>\n",
       "      <td>0.523245</td>\n",
       "    </tr>\n",
       "    <tr>\n",
       "      <th>Miercoles</th>\n",
       "      <td>607</td>\n",
       "      <td>1109</td>\n",
       "      <td>0.547340</td>\n",
       "    </tr>\n",
       "    <tr>\n",
       "      <th>Viernes</th>\n",
       "      <td>568</td>\n",
       "      <td>1076</td>\n",
       "      <td>0.527881</td>\n",
       "    </tr>\n",
       "  </tbody>\n",
       "</table>\n",
       "</div>"
      ],
      "text/plain": [
       "             sum  size  Prob_PnL +\n",
       "Day_of_week                       \n",
       "Jueves       559  1083    0.516159\n",
       "Lunes        510  1006    0.506958\n",
       "Martes       574  1097    0.523245\n",
       "Miercoles    607  1109    0.547340\n",
       "Viernes      568  1076    0.527881"
      ]
     },
     "execution_count": 20,
     "metadata": {},
     "output_type": "execute_result"
    }
   ],
   "source": [
    "group1 = data.groupby(['Day_of_week']).agg(['sum','size'])['Pos_neg']\n",
    "group1['Prob_PnL +'] = group1['sum']/group1['size']\n",
    "group1"
   ]
  },
  {
   "cell_type": "markdown",
   "metadata": {},
   "source": [
    "**Los dias mas propensos a cerrar al alza son los Miercoles con un 54.73% de probabilidad.**"
   ]
  },
  {
   "cell_type": "markdown",
   "metadata": {},
   "source": [
    "### Agrupamos segun dia de semana y segun si el PnL fue negativo o positivo\n",
    "\n",
    "Ademas de eso, calculamos la media de los retornos logaritmicos segun el Pos_neg"
   ]
  },
  {
   "cell_type": "code",
   "execution_count": 21,
   "metadata": {},
   "outputs": [
    {
     "data": {
      "text/html": [
       "<div>\n",
       "<style scoped>\n",
       "    .dataframe tbody tr th:only-of-type {\n",
       "        vertical-align: middle;\n",
       "    }\n",
       "\n",
       "    .dataframe tbody tr th {\n",
       "        vertical-align: top;\n",
       "    }\n",
       "\n",
       "    .dataframe thead tr th {\n",
       "        text-align: left;\n",
       "    }\n",
       "\n",
       "    .dataframe thead tr:last-of-type th {\n",
       "        text-align: right;\n",
       "    }\n",
       "</style>\n",
       "<table border=\"1\" class=\"dataframe\">\n",
       "  <thead>\n",
       "    <tr>\n",
       "      <th></th>\n",
       "      <th></th>\n",
       "      <th>Log_Ret_PnL</th>\n",
       "    </tr>\n",
       "    <tr>\n",
       "      <th></th>\n",
       "      <th></th>\n",
       "      <th>mean</th>\n",
       "    </tr>\n",
       "    <tr>\n",
       "      <th>Day_of_week</th>\n",
       "      <th>Pos_neg</th>\n",
       "      <th></th>\n",
       "    </tr>\n",
       "  </thead>\n",
       "  <tbody>\n",
       "    <tr>\n",
       "      <th rowspan=\"2\" valign=\"top\">Jueves</th>\n",
       "      <th>0</th>\n",
       "      <td>-0.015096</td>\n",
       "    </tr>\n",
       "    <tr>\n",
       "      <th>1</th>\n",
       "      <td>0.014509</td>\n",
       "    </tr>\n",
       "    <tr>\n",
       "      <th rowspan=\"2\" valign=\"top\">Lunes</th>\n",
       "      <th>0</th>\n",
       "      <td>-0.017457</td>\n",
       "    </tr>\n",
       "    <tr>\n",
       "      <th>1</th>\n",
       "      <td>0.014790</td>\n",
       "    </tr>\n",
       "    <tr>\n",
       "      <th rowspan=\"2\" valign=\"top\">Martes</th>\n",
       "      <th>0</th>\n",
       "      <td>-0.014895</td>\n",
       "    </tr>\n",
       "    <tr>\n",
       "      <th>1</th>\n",
       "      <td>0.013964</td>\n",
       "    </tr>\n",
       "    <tr>\n",
       "      <th rowspan=\"2\" valign=\"top\">Miercoles</th>\n",
       "      <th>0</th>\n",
       "      <td>-0.014650</td>\n",
       "    </tr>\n",
       "    <tr>\n",
       "      <th>1</th>\n",
       "      <td>0.013552</td>\n",
       "    </tr>\n",
       "    <tr>\n",
       "      <th rowspan=\"2\" valign=\"top\">Viernes</th>\n",
       "      <th>0</th>\n",
       "      <td>-0.012905</td>\n",
       "    </tr>\n",
       "    <tr>\n",
       "      <th>1</th>\n",
       "      <td>0.013727</td>\n",
       "    </tr>\n",
       "  </tbody>\n",
       "</table>\n",
       "</div>"
      ],
      "text/plain": [
       "                    Log_Ret_PnL\n",
       "                           mean\n",
       "Day_of_week Pos_neg            \n",
       "Jueves      0         -0.015096\n",
       "            1          0.014509\n",
       "Lunes       0         -0.017457\n",
       "            1          0.014790\n",
       "Martes      0         -0.014895\n",
       "            1          0.013964\n",
       "Miercoles   0         -0.014650\n",
       "            1          0.013552\n",
       "Viernes     0         -0.012905\n",
       "            1          0.013727"
      ]
     },
     "execution_count": 21,
     "metadata": {},
     "output_type": "execute_result"
    }
   ],
   "source": [
    "data.groupby(['Day_of_week','Pos_neg']).agg(['mean'])[['Log_Ret_PnL']]"
   ]
  },
  {
   "cell_type": "markdown",
   "metadata": {},
   "source": [
    "**Como se analizo previamente, el miercoles es el dia mas inclinado historicamente a cerrar al alza. El mismo tiene un promedio de rendimiento de 1.47% en estos dias de PnL positivos.**"
   ]
  }
 ],
 "metadata": {
  "kernelspec": {
   "display_name": "Python 3",
   "language": "python",
   "name": "python3"
  },
  "language_info": {
   "codemirror_mode": {
    "name": "ipython",
    "version": 3
   },
   "file_extension": ".py",
   "mimetype": "text/x-python",
   "name": "python",
   "nbconvert_exporter": "python",
   "pygments_lexer": "ipython3",
   "version": "3.6.4"
  }
 },
 "nbformat": 4,
 "nbformat_minor": 2
}
